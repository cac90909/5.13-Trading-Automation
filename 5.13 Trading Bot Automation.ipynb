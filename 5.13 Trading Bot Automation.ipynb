{
 "cells": [
  {
   "cell_type": "code",
   "execution_count": 19,
   "metadata": {},
   "outputs": [],
   "source": [
    "from binance.client import Client\n",
    "import numpy as np\n",
    "import pandas as pd\n",
    "import time\n",
    "import csv\n",
    "import seaborn as sns\n",
    "import matplotlib.pyplot as plt\n",
    "from datetime import datetime"
   ]
  },
  {
   "cell_type": "code",
   "execution_count": 20,
   "metadata": {},
   "outputs": [
    {
     "name": "stdout",
     "output_type": "stream",
     "text": [
      "Logged in\n"
     ]
    }
   ],
   "source": [
    "#retrieve api key from text file\n",
    "a = open(\"api_key.txt\",\"r\")\n",
    "api_key = a.read().strip()\n",
    "\n",
    "#retrieve api secret key from text file\n",
    "b = open(\"api_secret.txt\",\"r\")\n",
    "api_secret = b.read().strip()\n",
    "\n",
    "a.close()\n",
    "b.close()\n",
    "\n",
    "#Launching Binance API client\n",
    "client = Client(api_key, api_secret)\n",
    "print(\"Logged in\")"
   ]
  },
  {
   "cell_type": "code",
   "execution_count": 21,
   "metadata": {},
   "outputs": [
    {
     "name": "stdout",
     "output_type": "stream",
     "text": [
      "How many market checks would you like completed ( per round of testing )\n",
      "3\n",
      "How much time would you like between each market check ( in seconds please )?\n",
      "3\n",
      "How many rounds of testing would you like to do?\n",
      "5\n",
      "I estimate this program will run for  90  seconds.\n"
     ]
    }
   ],
   "source": [
    "print(\"How many market checks would you like completed ( per round of testing )\")\n",
    "total_checks = int(input())\n",
    "\n",
    "print(\"How much time would you like between each market check ( in seconds please )?\")\n",
    "time_between_checks = int(input())\n",
    "\n",
    "print(\"How many rounds of testing would you like to do?\")\n",
    "total_rounds = int(input())\n",
    "\n",
    "print(\"I estimate this program will run for \", (total_checks * time_between_checks * total_rounds*2), \" seconds.\")"
   ]
  },
  {
   "cell_type": "code",
   "execution_count": 22,
   "metadata": {},
   "outputs": [],
   "source": [
    "#Lists\n",
    "data_symb = [] #Symbols\n",
    "data_inv = [] #Investments\n",
    "data_pc = [] #Percentage Change\n",
    "\n",
    "#Creating a batch variable to keep track of what 'batch' we are on for testing purposes\n",
    "batch = 0"
   ]
  },
  {
   "cell_type": "code",
   "execution_count": 23,
   "metadata": {},
   "outputs": [
    {
     "name": "stdout",
     "output_type": "stream",
     "text": [
      "Initial Market Check for Batch # 0  is complete.\n",
      "Now Sleeping for Designated Time\n",
      "Batch # 0 is complete. It is currently  17:28:27 .\n",
      "\n",
      "Initial Market Check for Batch # 1  is complete.\n",
      "Now Sleeping for Designated Time\n",
      "Batch # 1 is complete. It is currently  17:28:51 .\n",
      "\n",
      "Initial Market Check for Batch # 2  is complete.\n",
      "Now Sleeping for Designated Time\n",
      "Batch # 2 is complete. It is currently  17:29:15 .\n",
      "\n",
      "Initial Market Check for Batch # 3  is complete.\n",
      "Now Sleeping for Designated Time\n",
      "Batch # 3 is complete. It is currently  17:29:37 .\n",
      "\n",
      "Initial Market Check for Batch # 4  is complete.\n",
      "Now Sleeping for Designated Time\n",
      "Batch # 4 is complete. It is currently  17:30:00 .\n",
      "\n"
     ]
    }
   ],
   "source": [
    "while (batch < total_rounds):    \n",
    "    \n",
    "    #Gets every 24h ticker data point\n",
    "    tickers = client.get_ticker()\n",
    "\n",
    "    #cols are the names of the dataframe's columns\n",
    "    cols = [\"Symbol\", \"Current Price\", \"Volume\", \"24hr %Change\", \"High Price\", \"Low Price\"]\n",
    "\n",
    "    #creating a dataframe 'df' to store all our numbers\n",
    "    df_assets = pd.DataFrame(columns = cols)\n",
    "\n",
    "    #enumerating variable 'en'\n",
    "    en = 0\n",
    "\n",
    "    for ticker in tickers:\n",
    "        df_assets.loc[en] = [ticker['symbol'],float(ticker['askPrice']), float(ticker['volume']),\n",
    "                            float(ticker['priceChangePercent']), float(ticker['highPrice']), float(ticker['lowPrice'])]\n",
    "        en = en+1\n",
    "    \n",
    "    #Now I want to track the momentum of each trading asset\n",
    "    #Going to create a Dataframe for that\n",
    "    df_momentum = pd.DataFrame(data = df_assets['Symbol'], columns = ['Symbol'])\n",
    "\n",
    "\n",
    "    current_check = 0 #Enumeration variable\n",
    "    momentum_values_list = [] #list to keep track of momentum values\n",
    "\n",
    "    #Creating a loop to mimic time and collect data as time passes\n",
    "    while(current_check < total_checks):\n",
    "\n",
    "        tickers = client.get_ticker() #Gets current ticker information\n",
    "        temp = [] #List to keep track of momentum values for the current iteration market check\n",
    "\n",
    "        for ticker in tickers:\n",
    "            temp.append(float(ticker['askPrice']))\n",
    "\n",
    "\n",
    "        momentum_values_list.append(temp) #Appending temp to our momentum_values_list    \n",
    "        current_check = current_check + 1 #Enumerating current_check to eventually meet total_checks value\n",
    "        time.sleep(time_between_checks) #Resting for designated time\n",
    "\n",
    "    print(\"Initial Market Check for Batch #\",batch,\" is complete.\")\n",
    "\n",
    "\n",
    "    #Now I want to add our market data gathered from 'momentum_values_list' to our momentum dataframe 'df_momentum'\n",
    "    for i in range(total_checks):\n",
    "        df_momentum.insert(i+1,i+1,momentum_values_list[i])\n",
    "\n",
    "    #Setting up DataFrames\n",
    "    perc_change = ((df_momentum[total_checks] - df_momentum[1])/df_momentum[1])\n",
    "    df_momentum.insert(df_momentum.shape[1], \"Percentage Change\", perc_change)\n",
    "    df_pos_momentum = df_momentum[df_momentum['Percentage Change'] > 0]\n",
    "    \n",
    "    #Filtering Dataframe\n",
    "    strat_df = df_pos_momentum[df_pos_momentum['Percentage Change'] >= df_pos_momentum['Percentage Change'].quantile(.98)]\n",
    "    \n",
    "    #Calculating Individual Investments\n",
    "    total_investment = 10000\n",
    "    strat_df_invs = ((strat_df['Percentage Change']/strat_df['Percentage Change'].sum())*total_investment)\n",
    "    \n",
    "    #Appending Investments to Dataframe\n",
    "    strat_df.insert(strat_df.shape[1], \"Investments\", strat_df_invs)\n",
    "    \n",
    "    \n",
    "    #HERE IS WHERE YOU WOULD ACTUALLY PURCHASE USING BINANCE API\n",
    "    #HERE IS WHERE YOU WOULD ACTUALLY PURCHASE USING BINANCE API\n",
    "    #HERE IS WHERE YOU WOULD ACTUALLY PURCHASE USING BINANCE API\n",
    "  \n",
    "    \n",
    "    #Gathering Restult Data for Evaluation\n",
    "    print(\"Now Sleeping for Designated Time\")\n",
    "    time.sleep(total_checks * time_between_checks) #resting for the passage of time and assets to appreciate in value\n",
    "\n",
    "    symbols_strat_df = strat_df['Symbol'].values #list of symbols in the positive momentum dataframe\n",
    "    new_prices = [None] * len(symbols_strat_df) #List for prices of post-trade (for evaluation purposes)\n",
    "\n",
    "    tickers = client.get_ticker() #gets most up to date info\n",
    "    i = 0 #Enumeration variable\n",
    "\n",
    "    for ticker in tickers:\n",
    "     \n",
    "        if (i == len(symbols_strat_df)):\n",
    "            break\n",
    "        if ((ticker['symbol'] == symbols_strat_df[i])):\n",
    "            new_prices[i] = float(ticker['askPrice'])\n",
    "            i = i + 1\n",
    "            \n",
    "    #Appending Result Data to DataFrame\n",
    "    strat_df.insert(strat_df.shape[1], \"Updated Prices\", new_prices)\n",
    "    \n",
    "    #Calculating % Change in Value\n",
    "    strat_df_civ = (strat_df['Updated Prices'] - strat_df[total_checks])/strat_df[total_checks]\n",
    "    \n",
    "    #Appending Change in Investment Value to Dataframe\n",
    "    strat_df.insert(strat_df.shape[1], \"Change in Investment Value\", strat_df_civ)\n",
    "    \n",
    "    #Storing our results\n",
    "    data_symb.append(strat_df['Symbol'])\n",
    "    data_inv.append(strat_df['Investments'])\n",
    "    data_pc.append(strat_df['Change in Investment Value'])\n",
    "\n",
    "    #Getting current time for documentation purposes\n",
    "    now = datetime.now()\n",
    "    current_time = now.strftime(\"%H:%M:%S\")\n",
    "\n",
    "    print(\"Batch #\", batch, \"is complete. It is currently \", current_time,\".\\n\")\n",
    "\n",
    "    batch = batch + 1 #Enumerating batch variable"
   ]
  },
  {
   "cell_type": "markdown",
   "metadata": {},
   "source": [
    "<h1> Analysis </h1>"
   ]
  },
  {
   "cell_type": "markdown",
   "metadata": {},
   "source": [
    "<h3> Percentage Change Returns </h3>"
   ]
  },
  {
   "cell_type": "code",
   "execution_count": 48,
   "metadata": {},
   "outputs": [
    {
     "data": {
      "text/plain": [
       "<matplotlib.legend.Legend at 0x1e158333ee0>"
      ]
     },
     "execution_count": 48,
     "metadata": {},
     "output_type": "execute_result"
    },
    {
     "data": {
      "image/png": "[encoded data removed]",
      "text/plain": [
       "<Figure size 1440x720 with 1 Axes>"
      ]
     },
     "metadata": {
      "needs_background": "light"
     },
     "output_type": "display_data"
    }
   ],
   "source": [
    "fig = plt.figure(figsize=(20, 10))\n",
    "plt.bar(data_symb[0],data_pc[0])\n",
    "plt.bar(data_symb[1],data_pc[1])\n",
    "plt.bar(data_symb[2],data_pc[2])\n",
    "plt.bar(data_symb[3],data_pc[3])\n",
    "plt.bar(data_symb[4],data_pc[4])\n",
    "plt.title(\"Percentage Change Returns\", fontsize= 25)\n",
    "plt.ylabel(\"Percentage Change in Value\", fontsize= 15, labelpad = 30)\n",
    "ax = plt.gca()\n",
    "ax.axes.xaxis.set_visible(False)\n",
    "plt.yticks(fontsize=16)\n",
    "plt.legend([1,2,3,4,5], loc = 'upper left')"
   ]
  },
  {
   "cell_type": "markdown",
   "metadata": {},
   "source": [
    "<h3> Nominal Dollar Returns </h3>"
   ]
  },
  {
   "cell_type": "code",
   "execution_count": 63,
   "metadata": {},
   "outputs": [
    {
     "data": {
      "text/plain": [
       "<matplotlib.legend.Legend at 0x1e1584a8970>"
      ]
     },
     "execution_count": 63,
     "metadata": {},
     "output_type": "execute_result"
    },
    {
     "data": {
      "image/png": "[encoded data removed]",
      "text/plain": [
       "<Figure size 1440x720 with 1 Axes>"
      ]
     },
     "metadata": {
      "needs_background": "light"
     },
     "output_type": "display_data"
    }
   ],
   "source": [
    "fig = plt.figure(figsize=(20, 10))\n",
    "plt.bar(data_symb[0],(data_pc[0]*data_inv[0]))\n",
    "plt.bar(data_symb[1],(data_pc[1]*data_inv[1]))\n",
    "plt.bar(data_symb[2],(data_pc[2]*data_inv[2]))\n",
    "plt.bar(data_symb[3],(data_pc[3]*data_inv[3]))\n",
    "plt.bar(data_symb[4],(data_pc[4]*data_inv[4]))\n",
    "plt.title(\"Nominal Dollar Returns\", fontsize= 30)\n",
    "plt.ylabel(\"Dollars Returned\", fontsize= 20, labelpad = 30)\n",
    "ax = plt.gca()\n",
    "ax.axes.xaxis.set_visible(False)\n",
    "plt.yticks(fontsize=16)\n",
    "plt.legend([1,2,3,4,5], loc = 'upper left')"
   ]
  }
 ],
 "metadata": {
  "kernelspec": {
   "display_name": "Python 3",
   "language": "python",
   "name": "python3"
  },
  "language_info": {
   "codemirror_mode": {
    "name": "ipython",
    "version": 3
   },
   "file_extension": ".py",
   "mimetype": "text/x-python",
   "name": "python",
   "nbconvert_exporter": "python",
   "pygments_lexer": "ipython3",
   "version": "3.8.3"
  }
 },
 "nbformat": 4,
 "nbformat_minor": 4
}
